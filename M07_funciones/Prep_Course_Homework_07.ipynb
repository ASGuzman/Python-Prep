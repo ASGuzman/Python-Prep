{
 "cells": [
  {
   "attachments": {},
   "cell_type": "markdown",
   "metadata": {},
   "source": [
    "## Funciones"
   ]
  },
  {
   "attachments": {},
   "cell_type": "markdown",
   "metadata": {},
   "source": [
    "1) Crear una función que reciba un número como parámetro y devuelva True si es primo y False si no lo es"
   ]
  },
  {
   "cell_type": "code",
   "execution_count": 1,
   "metadata": {},
   "outputs": [],
   "source": [
    "def decir_numero_primo_o_no (numero):\n",
    "    es_primo= True\n",
    "    for i in range(2,numero):\n",
    "        if numero % i == 0:\n",
    "            es_primo = False\n",
    "            break\n",
    "    return (es_primo)"
   ]
  },
  {
   "cell_type": "code",
   "execution_count": 2,
   "metadata": {},
   "outputs": [
    {
     "data": {
      "text/plain": [
       "True"
      ]
     },
     "execution_count": 2,
     "metadata": {},
     "output_type": "execute_result"
    }
   ],
   "source": [
    "decir_numero_primo_o_no(5)"
   ]
  },
  {
   "cell_type": "code",
   "execution_count": 5,
   "metadata": {},
   "outputs": [
    {
     "data": {
      "text/plain": [
       "False"
      ]
     },
     "execution_count": 5,
     "metadata": {},
     "output_type": "execute_result"
    }
   ],
   "source": [
    "numeritos= int(input(\"Ingrese un numero mayor a 0: \"))\n",
    "decir_numero_primo_o_no(numeritos)"
   ]
  },
  {
   "attachments": {},
   "cell_type": "markdown",
   "metadata": {},
   "source": [
    "2) Utilizando la función del punto 1, realizar otra función que reciba de parámetro una lista de números y devuelva sólo aquellos que son primos en otra lista"
   ]
  },
  {
   "cell_type": "code",
   "execution_count": 3,
   "metadata": {},
   "outputs": [],
   "source": [
    "def extraer_primos_en_lista (lista):\n",
    "    lista_primos = []\n",
    "    for elemento in lista:\n",
    "        if decir_numero_primo_o_no (int(elemento)):\n",
    "            lista_primos.append(elemento)\n",
    "    return(lista_primos) "
   ]
  },
  {
   "cell_type": "code",
   "execution_count": 4,
   "metadata": {},
   "outputs": [
    {
     "name": "stdout",
     "output_type": "stream",
     "text": [
      "[1, 2, 3, 5, 7, 11, 13, 17]\n"
     ]
    }
   ],
   "source": [
    "lista_completa=[1,2,3,4,5,6,7,8,9,10,11,12,13,14,15,16,17,18]\n",
    "lista_de_primos= extraer_primos_en_lista(lista_completa)\n",
    "print(lista_de_primos)"
   ]
  },
  {
   "attachments": {},
   "cell_type": "markdown",
   "metadata": {},
   "source": [
    "3) Crear una función que al recibir una lista de números, devuelva el que más se repite y cuántas veces lo hace. Si hay más de un \"más repetido\", que devuelva cualquiera"
   ]
  },
  {
   "cell_type": "code",
   "execution_count": 22,
   "metadata": {},
   "outputs": [],
   "source": [
    "def devolver_el_mas_repetido (listita,modo):\n",
    "    contador = {}\n",
    "    for num in listita:\n",
    "        if num in contador.keys():\n",
    "            contador[num] += 1\n",
    "        else:\n",
    "            contador[num] = 1\n",
    "    \n",
    "    maximo_repeticiones = 0\n",
    "    numero_mas_repetido = []\n",
    "\n",
    "    for num, repeticion in contador.items():\n",
    "        if repeticion > maximo_repeticiones:\n",
    "            maximo_repeticiones = repeticion\n",
    "            numero_mas_repetido = [num]\n",
    "        elif repeticion == maximo_repeticiones:\n",
    "            numero_mas_repetido.append(num)\n",
    "    #Al agregar esto que sigue al codigo define que no se elige cualquiera que tenga el maximo de repeticiones sino que se elija el mayor o el menor\n",
    "    if modo == \"menor\":\n",
    "        mas_repetido = min(numero_mas_repetido)\n",
    "    \n",
    "    elif modo == \"mayor\":\n",
    "        mas_repetido = max(numero_mas_repetido)\n",
    "    \n",
    "    return mas_repetido, maximo_repeticiones\n"
   ]
  },
  {
   "cell_type": "code",
   "execution_count": 23,
   "metadata": {},
   "outputs": [
    {
     "data": {
      "text/plain": [
       "(5, 3)"
      ]
     },
     "execution_count": 23,
     "metadata": {},
     "output_type": "execute_result"
    }
   ],
   "source": [
    "lis = [1,1,5,6,8,10,22,5,6,4,11,9,5]\n",
    "devolver_el_mas_repetido (lis,\"menor\")"
   ]
  },
  {
   "cell_type": "code",
   "execution_count": 19,
   "metadata": {},
   "outputs": [],
   "source": [
    "def valor_modal(lista):\n",
    "    lista_unicos = []  # Lista para almacenar los elementos únicos de la lista\n",
    "    lista_repeticiones = []  # Lista para almacenar las repeticiones de cada elemento único\n",
    "    if len(lista) == 0:  # Verificación si la lista está vacía\n",
    "        return None  # Si la lista está vacía, se devuelve None\n",
    "    for elemento in lista:  # Iteración sobre cada elemento de la lista\n",
    "        if elemento in lista_unicos:  # Verificación si el elemento ya está en la lista de únicos\n",
    "            i = lista_unicos.index(elemento)  # Se obtiene el índice del elemento en la lista de únicos\n",
    "            lista_repeticiones[i] += 1  # Se incrementa el contador de repeticiones para ese elemento\n",
    "        else:\n",
    "            lista_unicos.append(elemento)  # Si es un elemento único, se agrega a la lista de únicos\n",
    "            lista_repeticiones.append(1)  # Se inicializa el contador de repeticiones para ese elemento en 1\n",
    "    moda = lista_unicos[0]  # Se asume que el primer elemento de la lista de únicos es la moda inicialmente\n",
    "    maximo = lista_repeticiones[0]  # Se asume que el primer contador de repeticiones es el máximo inicialmente\n",
    "    for i, elemento in enumerate(lista_unicos):  # Iteración sobre cada elemento único y su índice\n",
    "        if lista_repeticiones[i] > maximo:  # Verificación si el contador de repeticiones es mayor al máximo actual\n",
    "            moda = lista_unicos[i]  # Se actualiza la moda con el nuevo elemento con más repeticiones\n",
    "            maximo = lista_repeticiones[i]  # Se actualiza el máximo con el nuevo contador de repeticiones mayor\n",
    "    return moda, maximo  # Se devuelve la moda y el máximo de repeticiones como una tupla"
   ]
  },
  {
   "cell_type": "code",
   "execution_count": 21,
   "metadata": {},
   "outputs": [
    {
     "data": {
      "text/plain": [
       "(5, 3)"
      ]
     },
     "execution_count": 21,
     "metadata": {},
     "output_type": "execute_result"
    }
   ],
   "source": [
    "lis = [1,1,5,6,8,10,22,5,6,4,11,9,5]\n",
    "valor_modal (lis)"
   ]
  },
  {
   "attachments": {},
   "cell_type": "markdown",
   "metadata": {},
   "source": [
    "4) Crear una función que convierta entre grados Celsius, Farenheit y Kelvin<br>\n",
    "Fórmula 1\t: (°C × 9/5) + 32 = °F<br>\n",
    "Fórmula 2\t: °C + 273.15 = °K<br>\n",
    "Debe recibir 3 parámetros: el valor, la medida de orígen y la medida de destino\n"
   ]
  },
  {
   "cell_type": "code",
   "execution_count": 28,
   "metadata": {},
   "outputs": [],
   "source": [
    "def conversion_temperatura (valor,origen,destino):\n",
    "    if origen == \"Celsius\":\n",
    "        if destino == \"Celsius\":\n",
    "            valor_destino = valor\n",
    "        elif destino == \"Kelvin\":\n",
    "            valor_destino = valor + 273.15\n",
    "        elif destino == \"Farenheit\":\n",
    "            valor_destino = (valor * 9/5) + 32\n",
    "        else:\n",
    "            print(\"Parametro de destino incorrecto\")\n",
    "    elif origen == \"Kelvin\":\n",
    "        if destino == \"Kelvin\":\n",
    "            valor_destino = valor\n",
    "        elif destino == \"Celsius\":\n",
    "            valor_destino = valor - 273.15\n",
    "        elif destino == \"Farenheit\":\n",
    "            valor_destino = ((valor - 273.15) * 9/5) + 32\n",
    "        else:\n",
    "            print(\"Parametro de destino incorrecto\")\n",
    "    elif origen == \"Farenheit\":\n",
    "        if destino == \"Farenheit\":\n",
    "            valor_destino = valor\n",
    "        elif destino == \"Kelvin\":\n",
    "            valor_destino = ((valor - 32) * 5/9) + 273.15\n",
    "        elif destino == \"Celsius\":\n",
    "            valor_destino = (valor - 32) * 5/9\n",
    "        else:\n",
    "            print(\"Parametro de destino incorrecto\")\n",
    "    else:\n",
    "        print(\"Parametro de origen incorrecto\")\n",
    "    return valor_destino"
   ]
  },
  {
   "cell_type": "code",
   "execution_count": 29,
   "metadata": {},
   "outputs": [
    {
     "name": "stdout",
     "output_type": "stream",
     "text": [
      "1 grado Celsius a Celsius: 1\n",
      "1 grado Celsius a Kelvin: 274.15\n",
      "1 grado Celsius a Farenheit: 33.8\n",
      "1 grado Kelvin a Celsius: -272.15\n",
      "1 grado Kelvin a Kelvin: 1\n",
      "1 grado Kelvin a Farenheit: -457.87\n",
      "1 grado Farenheit a Celsius: -17.22222222222222\n",
      "1 grado Farenheit a Kelvin: 255.92777777777775\n",
      "1 grado Farenheit a Farenheit: 1\n"
     ]
    }
   ],
   "source": [
    "print('1 grado Celsius a Celsius:', conversion_temperatura(1, 'Celsius', 'Celsius'))\n",
    "print('1 grado Celsius a Kelvin:', conversion_temperatura(1, 'Celsius', 'Kelvin'))\n",
    "print('1 grado Celsius a Farenheit:', conversion_temperatura(1, 'Celsius', 'Farenheit'))\n",
    "print('1 grado Kelvin a Celsius:', conversion_temperatura(1, 'Kelvin', 'Celsius'))\n",
    "print('1 grado Kelvin a Kelvin:', conversion_temperatura(1, 'Kelvin', 'Kelvin'))\n",
    "print('1 grado Kelvin a Farenheit:', conversion_temperatura(1, 'Kelvin', 'Farenheit'))\n",
    "print('1 grado Farenheit a Celsius:', conversion_temperatura(1, 'Farenheit', 'Celsius'))\n",
    "print('1 grado Farenheit a Kelvin:', conversion_temperatura(1, 'Farenheit', 'Kelvin'))\n",
    "print('1 grado Farenheit a Farenheit:', conversion_temperatura(1, 'Farenheit', 'Farenheit'))"
   ]
  },
  {
   "attachments": {},
   "cell_type": "markdown",
   "metadata": {},
   "source": [
    "5) Iterando una lista con los tres valores posibles de temperatura que recibe la función del punto 5, hacer un print para cada combinación de los mismos:"
   ]
  },
  {
   "cell_type": "code",
   "execution_count": 37,
   "metadata": {},
   "outputs": [
    {
     "name": "stdout",
     "output_type": "stream",
     "text": [
      "1 grado Celsius a Celsius : 1\n",
      "1 grado Celsius a Kelvin : 274.15\n",
      "1 grado Celsius a Farenheit : 33.8\n",
      "1 grado Kelvin a Celsius : -272.15\n",
      "1 grado Kelvin a Kelvin : 1\n",
      "1 grado Kelvin a Farenheit : -457.87\n",
      "1 grado Farenheit a Celsius : -17.22222222222222\n",
      "1 grado Farenheit a Kelvin : 255.92777777777775\n",
      "1 grado Farenheit a Farenheit : 1\n"
     ]
    }
   ],
   "source": [
    "metricas = [\"Celsius\",\"Kelvin\",\"Farenheit\"]\n",
    "for i in range (0,3):\n",
    "    for j in range(0,3):\n",
    "        print(\"1 grado\", metricas[i],\"a\", metricas[j], \":\" ,conversion_temperatura(1, metricas[i],metricas[j]))"
   ]
  },
  {
   "attachments": {},
   "cell_type": "markdown",
   "metadata": {},
   "source": [
    "6) Armar una función que devuelva el factorial de un número. Tener en cuenta que el usuario puede equivocarse y enviar de parámetro un número no entero o negativo"
   ]
  },
  {
   "cell_type": "code",
   "execution_count": 42,
   "metadata": {},
   "outputs": [],
   "source": [
    "def factorial_de_numero (numero):\n",
    "    if type(numero) != int:\n",
    "        return \"El numero debe ser un entero\"\n",
    "    elif numero < 0:\n",
    "        return \"El numero debe ser positivo\"\n",
    "    elif numero <= 1:\n",
    "        return 1\n",
    "    else:\n",
    "        numero = numero * factorial_de_numero (numero-1)\n",
    "        return numero"
   ]
  },
  {
   "cell_type": "code",
   "execution_count": 45,
   "metadata": {},
   "outputs": [
    {
     "name": "stdout",
     "output_type": "stream",
     "text": [
      "6\n",
      "El numero debe ser positivo\n",
      "El numero debe ser un entero\n",
      "1\n"
     ]
    }
   ],
   "source": [
    "print(factorial_de_numero(3))\n",
    "print(factorial_de_numero(-2))\n",
    "print(factorial_de_numero(1.2))\n",
    "print(factorial_de_numero(0))"
   ]
  }
 ],
 "metadata": {
  "interpreter": {
   "hash": "c85384e4cb51c8b72350f3a8712cc8351fdc3955e32a27f9b60c6242ab125f01"
  },
  "kernelspec": {
   "display_name": "Python 3 (ipykernel)",
   "language": "python",
   "name": "python3"
  },
  "language_info": {
   "codemirror_mode": {
    "name": "ipython",
    "version": 3
   },
   "file_extension": ".py",
   "mimetype": "text/x-python",
   "name": "python",
   "nbconvert_exporter": "python",
   "pygments_lexer": "ipython3",
   "version": "3.11.4"
  }
 },
 "nbformat": 4,
 "nbformat_minor": 4
}
